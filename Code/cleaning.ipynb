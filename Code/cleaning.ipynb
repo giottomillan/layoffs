{
 "cells": [
  {
   "cell_type": "markdown",
   "metadata": {},
   "source": [
    "# Data Cleaning"
   ]
  },
  {
   "cell_type": "markdown",
   "metadata": {},
   "source": [
    "Data cleaning is a crucial step in this project to ensure accuracy and reliability. The process involves:\n",
    "\n",
    "- Handling missing values\n",
    "- Correcting inconsistencies\n",
    "- Removing duplicates\n",
    "- Standardizing data formats\n",
    "- Addressing outliers"
   ]
  },
  {
   "cell_type": "code",
   "execution_count": 1,
   "metadata": {},
   "outputs": [],
   "source": [
    "## libraries\n",
    "import pandas as pd\n",
    "import numpy as np\n",
    "\n",
    "#pd.set_option('display.max_rows', None)\n"
   ]
  },
  {
   "cell_type": "code",
   "execution_count": 2,
   "metadata": {},
   "outputs": [],
   "source": [
    "## importamos datos\n",
    "layoffs = pd.read_csv('../Data/layoffs.csv')"
   ]
  },
  {
   "cell_type": "markdown",
   "metadata": {},
   "source": [
    "## General Vision"
   ]
  },
  {
   "cell_type": "code",
   "execution_count": 3,
   "metadata": {},
   "outputs": [],
   "source": [
    "layoffs['total_laid_off'] = layoffs['total_laid_off'].replace('.',',')"
   ]
  },
  {
   "cell_type": "code",
   "execution_count": 4,
   "metadata": {},
   "outputs": [
    {
     "data": {
      "text/html": [
       "<div>\n",
       "<style scoped>\n",
       "    .dataframe tbody tr th:only-of-type {\n",
       "        vertical-align: middle;\n",
       "    }\n",
       "\n",
       "    .dataframe tbody tr th {\n",
       "        vertical-align: top;\n",
       "    }\n",
       "\n",
       "    .dataframe thead th {\n",
       "        text-align: right;\n",
       "    }\n",
       "</style>\n",
       "<table border=\"1\" class=\"dataframe\">\n",
       "  <thead>\n",
       "    <tr style=\"text-align: right;\">\n",
       "      <th></th>\n",
       "      <th>company</th>\n",
       "      <th>location</th>\n",
       "      <th>industry</th>\n",
       "      <th>total_laid_off</th>\n",
       "      <th>percentage_laid_off</th>\n",
       "      <th>date</th>\n",
       "      <th>stage</th>\n",
       "      <th>country</th>\n",
       "      <th>funds_raised_millions</th>\n",
       "    </tr>\n",
       "  </thead>\n",
       "  <tbody>\n",
       "    <tr>\n",
       "      <th>0</th>\n",
       "      <td>Atlassian</td>\n",
       "      <td>Sydney</td>\n",
       "      <td>Other</td>\n",
       "      <td>500.0</td>\n",
       "      <td>0.05</td>\n",
       "      <td>3/6/2023</td>\n",
       "      <td>Post-IPO</td>\n",
       "      <td>Australia</td>\n",
       "      <td>210.0</td>\n",
       "    </tr>\n",
       "    <tr>\n",
       "      <th>1</th>\n",
       "      <td>SiriusXM</td>\n",
       "      <td>New York City</td>\n",
       "      <td>Media</td>\n",
       "      <td>475.0</td>\n",
       "      <td>0.08</td>\n",
       "      <td>3/6/2023</td>\n",
       "      <td>Post-IPO</td>\n",
       "      <td>United States</td>\n",
       "      <td>525.0</td>\n",
       "    </tr>\n",
       "    <tr>\n",
       "      <th>2</th>\n",
       "      <td>Alerzo</td>\n",
       "      <td>Ibadan</td>\n",
       "      <td>Retail</td>\n",
       "      <td>400.0</td>\n",
       "      <td>NaN</td>\n",
       "      <td>3/6/2023</td>\n",
       "      <td>Series B</td>\n",
       "      <td>Nigeria</td>\n",
       "      <td>16.0</td>\n",
       "    </tr>\n",
       "    <tr>\n",
       "      <th>3</th>\n",
       "      <td>UpGrad</td>\n",
       "      <td>Mumbai</td>\n",
       "      <td>Education</td>\n",
       "      <td>120.0</td>\n",
       "      <td>NaN</td>\n",
       "      <td>3/6/2023</td>\n",
       "      <td>Unknown</td>\n",
       "      <td>India</td>\n",
       "      <td>631.0</td>\n",
       "    </tr>\n",
       "    <tr>\n",
       "      <th>4</th>\n",
       "      <td>Loft</td>\n",
       "      <td>Sao Paulo</td>\n",
       "      <td>Real Estate</td>\n",
       "      <td>340.0</td>\n",
       "      <td>0.15</td>\n",
       "      <td>3/3/2023</td>\n",
       "      <td>Unknown</td>\n",
       "      <td>Brazil</td>\n",
       "      <td>788.0</td>\n",
       "    </tr>\n",
       "  </tbody>\n",
       "</table>\n",
       "</div>"
      ],
      "text/plain": [
       "     company       location     industry  total_laid_off  percentage_laid_off  \\\n",
       "0  Atlassian         Sydney        Other           500.0                 0.05   \n",
       "1   SiriusXM  New York City        Media           475.0                 0.08   \n",
       "2     Alerzo         Ibadan       Retail           400.0                  NaN   \n",
       "3     UpGrad         Mumbai    Education           120.0                  NaN   \n",
       "4       Loft      Sao Paulo  Real Estate           340.0                 0.15   \n",
       "\n",
       "       date     stage        country  funds_raised_millions  \n",
       "0  3/6/2023  Post-IPO      Australia                  210.0  \n",
       "1  3/6/2023  Post-IPO  United States                  525.0  \n",
       "2  3/6/2023  Series B        Nigeria                   16.0  \n",
       "3  3/6/2023   Unknown          India                  631.0  \n",
       "4  3/3/2023   Unknown         Brazil                  788.0  "
      ]
     },
     "execution_count": 4,
     "metadata": {},
     "output_type": "execute_result"
    }
   ],
   "source": [
    "layoffs.head()"
   ]
  },
  {
   "cell_type": "code",
   "execution_count": 5,
   "metadata": {},
   "outputs": [
    {
     "data": {
      "text/plain": [
       "(2361, 9)"
      ]
     },
     "execution_count": 5,
     "metadata": {},
     "output_type": "execute_result"
    }
   ],
   "source": [
    "layoffs.shape"
   ]
  },
  {
   "cell_type": "code",
   "execution_count": 6,
   "metadata": {},
   "outputs": [
    {
     "name": "stdout",
     "output_type": "stream",
     "text": [
      "<class 'pandas.core.frame.DataFrame'>\n",
      "RangeIndex: 2361 entries, 0 to 2360\n",
      "Data columns (total 9 columns):\n",
      " #   Column                 Non-Null Count  Dtype  \n",
      "---  ------                 --------------  -----  \n",
      " 0   company                2361 non-null   object \n",
      " 1   location               2361 non-null   object \n",
      " 2   industry               2357 non-null   object \n",
      " 3   total_laid_off         1621 non-null   float64\n",
      " 4   percentage_laid_off    1576 non-null   float64\n",
      " 5   date                   2360 non-null   object \n",
      " 6   stage                  2355 non-null   object \n",
      " 7   country                2361 non-null   object \n",
      " 8   funds_raised_millions  2152 non-null   float64\n",
      "dtypes: float64(3), object(6)\n",
      "memory usage: 965.0 KB\n"
     ]
    }
   ],
   "source": [
    "layoffs.info(memory_usage='deep')"
   ]
  },
  {
   "cell_type": "code",
   "execution_count": 7,
   "metadata": {},
   "outputs": [
    {
     "data": {
      "text/html": [
       "<div>\n",
       "<style scoped>\n",
       "    .dataframe tbody tr th:only-of-type {\n",
       "        vertical-align: middle;\n",
       "    }\n",
       "\n",
       "    .dataframe tbody tr th {\n",
       "        vertical-align: top;\n",
       "    }\n",
       "\n",
       "    .dataframe thead th {\n",
       "        text-align: right;\n",
       "    }\n",
       "</style>\n",
       "<table border=\"1\" class=\"dataframe\">\n",
       "  <thead>\n",
       "    <tr style=\"text-align: right;\">\n",
       "      <th></th>\n",
       "      <th>count</th>\n",
       "      <th>mean</th>\n",
       "      <th>std</th>\n",
       "      <th>min</th>\n",
       "      <th>25%</th>\n",
       "      <th>50%</th>\n",
       "      <th>75%</th>\n",
       "      <th>max</th>\n",
       "    </tr>\n",
       "  </thead>\n",
       "  <tbody>\n",
       "    <tr>\n",
       "      <th>total_laid_off</th>\n",
       "      <td>1621.0</td>\n",
       "      <td>238.358421</td>\n",
       "      <td>769.718801</td>\n",
       "      <td>3.0</td>\n",
       "      <td>36.0</td>\n",
       "      <td>80.00</td>\n",
       "      <td>180.0</td>\n",
       "      <td>12000.0</td>\n",
       "    </tr>\n",
       "    <tr>\n",
       "      <th>percentage_laid_off</th>\n",
       "      <td>1576.0</td>\n",
       "      <td>0.257917</td>\n",
       "      <td>0.255575</td>\n",
       "      <td>0.0</td>\n",
       "      <td>0.1</td>\n",
       "      <td>0.17</td>\n",
       "      <td>0.3</td>\n",
       "      <td>1.0</td>\n",
       "    </tr>\n",
       "    <tr>\n",
       "      <th>funds_raised_millions</th>\n",
       "      <td>2152.0</td>\n",
       "      <td>822.454134</td>\n",
       "      <td>5593.961626</td>\n",
       "      <td>0.0</td>\n",
       "      <td>50.0</td>\n",
       "      <td>156.50</td>\n",
       "      <td>445.0</td>\n",
       "      <td>121900.0</td>\n",
       "    </tr>\n",
       "  </tbody>\n",
       "</table>\n",
       "</div>"
      ],
      "text/plain": [
       "                        count        mean          std  min   25%     50%  \\\n",
       "total_laid_off         1621.0  238.358421   769.718801  3.0  36.0   80.00   \n",
       "percentage_laid_off    1576.0    0.257917     0.255575  0.0   0.1    0.17   \n",
       "funds_raised_millions  2152.0  822.454134  5593.961626  0.0  50.0  156.50   \n",
       "\n",
       "                         75%       max  \n",
       "total_laid_off         180.0   12000.0  \n",
       "percentage_laid_off      0.3       1.0  \n",
       "funds_raised_millions  445.0  121900.0  "
      ]
     },
     "execution_count": 7,
     "metadata": {},
     "output_type": "execute_result"
    }
   ],
   "source": [
    "layoffs.describe().T"
   ]
  },
  {
   "cell_type": "markdown",
   "metadata": {},
   "source": [
    "## Removing duplicates\n"
   ]
  },
  {
   "cell_type": "markdown",
   "metadata": {},
   "source": [
    "We identified duplicate entries in the dataset and removed them. The number of duplicates was relatively small and their presence did not significantly impact the overall analysis. Therefore, eliminating these duplicates helped streamline the data without affecting the integrity of our findings."
   ]
  },
  {
   "cell_type": "code",
   "execution_count": 8,
   "metadata": {},
   "outputs": [
    {
     "data": {
      "text/plain": [
       "5"
      ]
     },
     "execution_count": 8,
     "metadata": {},
     "output_type": "execute_result"
    }
   ],
   "source": [
    "layoffs.duplicated().sum()"
   ]
  },
  {
   "cell_type": "code",
   "execution_count": 9,
   "metadata": {},
   "outputs": [],
   "source": [
    "layoffs.drop_duplicates(inplace=True)"
   ]
  },
  {
   "cell_type": "markdown",
   "metadata": {},
   "source": [
    "## Standarization"
   ]
  },
  {
   "cell_type": "markdown",
   "metadata": {},
   "source": [
    "The column names appear to be standardized, but many of the date formats are inconsistent. To ensure uniformity across the dataset, I will standardize all date formats. This step is crucial for accurate analysis and consistency throughout the data processing pipeline."
   ]
  },
  {
   "cell_type": "code",
   "execution_count": 10,
   "metadata": {},
   "outputs": [
    {
     "data": {
      "text/plain": [
       "Index(['company', 'location', 'industry', 'total_laid_off',\n",
       "       'percentage_laid_off', 'date', 'stage', 'country',\n",
       "       'funds_raised_millions'],\n",
       "      dtype='object')"
      ]
     },
     "execution_count": 10,
     "metadata": {},
     "output_type": "execute_result"
    }
   ],
   "source": [
    "layoffs.columns"
   ]
  },
  {
   "cell_type": "code",
   "execution_count": 11,
   "metadata": {},
   "outputs": [
    {
     "data": {
      "text/html": [
       "<div>\n",
       "<style scoped>\n",
       "    .dataframe tbody tr th:only-of-type {\n",
       "        vertical-align: middle;\n",
       "    }\n",
       "\n",
       "    .dataframe tbody tr th {\n",
       "        vertical-align: top;\n",
       "    }\n",
       "\n",
       "    .dataframe thead th {\n",
       "        text-align: right;\n",
       "    }\n",
       "</style>\n",
       "<table border=\"1\" class=\"dataframe\">\n",
       "  <thead>\n",
       "    <tr style=\"text-align: right;\">\n",
       "      <th></th>\n",
       "      <th>count</th>\n",
       "      <th>unique</th>\n",
       "      <th>top</th>\n",
       "      <th>freq</th>\n",
       "    </tr>\n",
       "  </thead>\n",
       "  <tbody>\n",
       "    <tr>\n",
       "      <th>company</th>\n",
       "      <td>2356</td>\n",
       "      <td>1893</td>\n",
       "      <td>Loft</td>\n",
       "      <td>6</td>\n",
       "    </tr>\n",
       "    <tr>\n",
       "      <th>location</th>\n",
       "      <td>2356</td>\n",
       "      <td>191</td>\n",
       "      <td>SF Bay Area</td>\n",
       "      <td>613</td>\n",
       "    </tr>\n",
       "    <tr>\n",
       "      <th>industry</th>\n",
       "      <td>2352</td>\n",
       "      <td>32</td>\n",
       "      <td>Finance</td>\n",
       "      <td>284</td>\n",
       "    </tr>\n",
       "    <tr>\n",
       "      <th>date</th>\n",
       "      <td>2355</td>\n",
       "      <td>483</td>\n",
       "      <td>4/2/2020</td>\n",
       "      <td>27</td>\n",
       "    </tr>\n",
       "    <tr>\n",
       "      <th>stage</th>\n",
       "      <td>2350</td>\n",
       "      <td>16</td>\n",
       "      <td>Post-IPO</td>\n",
       "      <td>426</td>\n",
       "    </tr>\n",
       "    <tr>\n",
       "      <th>country</th>\n",
       "      <td>2356</td>\n",
       "      <td>60</td>\n",
       "      <td>United States</td>\n",
       "      <td>1539</td>\n",
       "    </tr>\n",
       "  </tbody>\n",
       "</table>\n",
       "</div>"
      ],
      "text/plain": [
       "         count unique            top  freq\n",
       "company   2356   1893           Loft     6\n",
       "location  2356    191    SF Bay Area   613\n",
       "industry  2352     32        Finance   284\n",
       "date      2355    483       4/2/2020    27\n",
       "stage     2350     16       Post-IPO   426\n",
       "country   2356     60  United States  1539"
      ]
     },
     "execution_count": 11,
     "metadata": {},
     "output_type": "execute_result"
    }
   ],
   "source": [
    "layoffs.describe(include='object').T"
   ]
  },
  {
   "cell_type": "code",
   "execution_count": 12,
   "metadata": {},
   "outputs": [
    {
     "data": {
      "text/plain": [
       "array(['Post-IPO', 'Series B', 'Unknown', 'Acquired', 'Series F',\n",
       "       'Series E', 'Series A', 'Subsidiary', 'Series C', 'Series G',\n",
       "       'Series D', 'Seed', 'Series H', 'Private Equity', 'Series J', nan,\n",
       "       'Series I'], dtype=object)"
      ]
     },
     "execution_count": 12,
     "metadata": {},
     "output_type": "execute_result"
    }
   ],
   "source": [
    "# valores unicos\n",
    "layoffs['stage'].unique()"
   ]
  },
  {
   "cell_type": "code",
   "execution_count": 13,
   "metadata": {},
   "outputs": [
    {
     "data": {
      "text/plain": [
       "array(['Other', 'Media', 'Retail', 'Education', 'Real Estate',\n",
       "       'Transportation', 'Marketing', nan, 'Healthcare', 'Security',\n",
       "       'Food', 'Fitness', 'Consumer', 'Logistics', 'HR', 'Support',\n",
       "       'Travel', 'Crypto', 'Finance', 'Data', 'Sales', 'Infrastructure',\n",
       "       'Hardware', 'Product', 'Construction', 'Legal', 'Energy',\n",
       "       'Manufacturing', 'Recruiting', 'Aerospace', 'Crypto Currency',\n",
       "       'Fin-Tech', 'CryptoCurrency'], dtype=object)"
      ]
     },
     "execution_count": 13,
     "metadata": {},
     "output_type": "execute_result"
    }
   ],
   "source": [
    "# valores unicos\n",
    "layoffs['industry'].unique()"
   ]
  },
  {
   "cell_type": "code",
   "execution_count": 14,
   "metadata": {},
   "outputs": [
    {
     "data": {
      "text/plain": [
       "array(['Australia', 'United States', 'Nigeria', 'India', 'Brazil',\n",
       "       'United States.', 'France', 'Germany', 'Israel', 'Sweden',\n",
       "       'United Kingdom', 'Japan', 'South Korea', 'China', 'Italy',\n",
       "       'Singapore', 'Indonesia', 'Estonia', 'Canada', 'Ireland',\n",
       "       'Finland', 'Netherlands', 'Spain', 'Portugal', 'Chile', 'Colombia',\n",
       "       'Argentina', 'Seychelles', 'Austria', 'Mexico', 'Switzerland',\n",
       "       'Egypt', 'Kenya', 'Luxembourg', 'Greece', 'Poland', 'Norway',\n",
       "       'Belgium', 'Denmark', 'Hong Kong', 'New Zealand', 'Malaysia',\n",
       "       'Hungary', 'Vietnam', 'Thailand', 'Lithuania', 'Ghana', 'Senegal',\n",
       "       'Pakistan', 'United Arab Emirates', 'Peru', 'Bahrain', 'Romania',\n",
       "       'Turkey', 'Russia', 'Uruguay', 'Bulgaria', 'South Africa',\n",
       "       'Czech Republic', 'Myanmar'], dtype=object)"
      ]
     },
     "execution_count": 14,
     "metadata": {},
     "output_type": "execute_result"
    }
   ],
   "source": [
    "# valores unicos\n",
    "layoffs['country'].unique()"
   ]
  },
  {
   "cell_type": "code",
   "execution_count": 15,
   "metadata": {},
   "outputs": [
    {
     "data": {
      "text/plain": [
       "array(['Sydney', 'New York City', 'Ibadan', 'Mumbai', 'Sao Paulo',\n",
       "       'SF Bay Area', 'Seattle', 'Boston', 'Blumenau', 'Pune',\n",
       "       'Bengaluru', 'Los Angeles', 'Boise', 'Chicago', 'Paris',\n",
       "       'Baton Rouge', 'Munich', 'Denver', 'Tel Aviv', 'Stockholm',\n",
       "       'Orlando', 'Ann Arbor', 'Berlin', 'Vancouver', 'Washington D.C.',\n",
       "       'London', 'San Antonio', 'St. Louis', 'Pittsburgh', 'Tokyo',\n",
       "       'Lagos', 'Seoul', 'Chennai', 'Shenzen', 'Portland', 'Atlanta',\n",
       "       'Albany', 'Milan', 'Singapore', 'Jakarta', 'Philadelphia',\n",
       "       'Columbus', 'Tallinn', 'Phoenix', 'Toronto', 'Melbourne', 'Dublin',\n",
       "       'Austin', 'New Delhi', 'Manchester', 'Miami', 'Helsinki',\n",
       "       'Detroit', 'Frankfurt', 'Waterloo', 'Amsterdam', 'Barcelona',\n",
       "       'Karlsruhe', 'Curitiba', 'Charlotte', 'Las Vegas', 'New Haven',\n",
       "       'Montreal', 'Coimbra', 'Walldorf', 'Jersey City', 'Reno', 'Kiel',\n",
       "       'Gurugram', 'Nashville', 'Mexico City', 'Oxford', 'Calgary',\n",
       "       'Boulder', 'Wilmington', 'Cincinnati', 'Providence', 'Santiago',\n",
       "       'Dallas', 'Bogota', 'Buenos Aires', 'Indore', 'Patna', 'Brisbane',\n",
       "       'Bismarck', 'Baltimore', 'Salt Lake City', 'San Diego', 'Beijing',\n",
       "       'Grand Rapids', 'Shanghai', 'Beau Vallon', 'Hamburg', 'Vienna',\n",
       "       'Birmingham', 'Kansas City', 'Raleigh', 'Milwaukee', 'Lehi',\n",
       "       'Burlington', 'Bend', 'Sacramento', 'Guadalajara', 'Zug', 'Cairo',\n",
       "       'Dubai', 'Gothenburg', 'Nairobi', 'Dover', 'Luxembourg', 'Malmö',\n",
       "       'Lexington', 'Stamford', 'Logan', 'Eindhoven', 'Athens',\n",
       "       'Minneapolis', 'Krakow', 'Hyderabad', 'Nebraska City',\n",
       "       'Copenhagen', 'Non-U.S.', 'Trondheim', 'Oslo', 'Düsseldorf',\n",
       "       'San Luis Obispo', 'Jerusalem', 'Belo Horizonte', 'Brussels',\n",
       "       'Noida', 'The Hague', 'Hong Kong', 'Auckland', 'Kuala Lumpur',\n",
       "       'Bristol', 'Budapest', 'Ho Chi Minh City', 'Winnipeg', 'Bangkok',\n",
       "       'Vilnius', 'Ottawa', 'Richmond', 'Accra', 'Saskatoon',\n",
       "       'Porto Alegre', 'Indianapolis', 'Victoria', 'Ferdericton', 'Dakar',\n",
       "       'Florianópolis', 'Lahore', 'Santa Barbara', 'Durham', 'Louisville',\n",
       "       'Nashua', 'Huntsville', 'Spokane', 'Lima', 'Houston', 'Malmo',\n",
       "       'Brasilia', 'Selangor', 'Manama', 'Karachi', 'Bucharest',\n",
       "       'Istanbul', 'Moscow', 'Davenport', 'Toulouse', 'Montevideo',\n",
       "       'Edinburgh', 'Fayetteville', 'Madison', 'Sofia', 'Santa Fe',\n",
       "       'Cork', 'Ahmedabad', 'Joinville', 'Hanoi', 'Norwalk', 'Zurich',\n",
       "       'Dusseldorf', 'Lisbon', 'Cape Town', 'Missoula', 'Quebec',\n",
       "       'Prague', 'Yangon', 'New Orleans', 'Tampa Bay', 'Charleston'],\n",
       "      dtype=object)"
      ]
     },
     "execution_count": 15,
     "metadata": {},
     "output_type": "execute_result"
    }
   ],
   "source": [
    "# valores unicos\n",
    "layoffs['location'].unique()"
   ]
  },
  {
   "cell_type": "code",
   "execution_count": 16,
   "metadata": {},
   "outputs": [
    {
     "data": {
      "text/plain": [
       "array(['Atlassian', 'SiriusXM', 'Alerzo', ..., 'Panda Squad',\n",
       "       'Tamara Mellon', 'Blackbaud'], dtype=object)"
      ]
     },
     "execution_count": 16,
     "metadata": {},
     "output_type": "execute_result"
    }
   ],
   "source": [
    "# valores unicos\n",
    "layoffs['company'].unique()"
   ]
  },
  {
   "cell_type": "code",
   "execution_count": 17,
   "metadata": {},
   "outputs": [],
   "source": [
    "#pip install thefuzz\n",
    "#pip show thefuzz\n"
   ]
  },
  {
   "cell_type": "code",
   "execution_count": 21,
   "metadata": {},
   "outputs": [
    {
     "name": "stdout",
     "output_type": "stream",
     "text": [
      "WeWork       6\n",
      "Loft         6\n",
      "Uber         5\n",
      "Swiggy       5\n",
      "OYO          5\n",
      "            ..\n",
      "Kabam        1\n",
      "Plum         1\n",
      "Liftoff      1\n",
      "Meta         1\n",
      "Blackbaud    1\n",
      "Name: company, Length: 1885, dtype: int64\n"
     ]
    }
   ],
   "source": [
    "from thefuzz import fuzz\n",
    "from thefuzz import process\n",
    "\n",
    "# Crear una lista de nombres únicos de compañías\n",
    "unique_companies = layoffs['company'].unique()\n",
    "\n",
    "# Función para encontrar y unificar nombres similares\n",
    "def unify_company_names(company_name, unique_names, threshold=80):\n",
    "    match = process.extractOne(company_name, unique_names, scorer=fuzz.ratio)\n",
    "    if match[1] >= threshold:\n",
    "        return match[0]\n",
    "    return company_name\n",
    "\n",
    "# Aplicar la función para unificar nombres en la columna 'company'\n",
    "layoffs['company'] = layoffs['company'].apply(lambda x: unify_company_names(x, unique_companies))\n",
    "\n",
    "# Opcional: Verificar los resultados\n",
    "print(layoffs['company'].value_counts())"
   ]
  },
  {
   "cell_type": "code",
   "execution_count": 29,
   "metadata": {},
   "outputs": [
    {
     "data": {
      "text/html": [
       "<div>\n",
       "<style scoped>\n",
       "    .dataframe tbody tr th:only-of-type {\n",
       "        vertical-align: middle;\n",
       "    }\n",
       "\n",
       "    .dataframe tbody tr th {\n",
       "        vertical-align: top;\n",
       "    }\n",
       "\n",
       "    .dataframe thead th {\n",
       "        text-align: right;\n",
       "    }\n",
       "</style>\n",
       "<table border=\"1\" class=\"dataframe\">\n",
       "  <thead>\n",
       "    <tr style=\"text-align: right;\">\n",
       "      <th></th>\n",
       "      <th>company</th>\n",
       "      <th>location</th>\n",
       "      <th>industry</th>\n",
       "      <th>total_laid_off</th>\n",
       "      <th>percentage_laid_off</th>\n",
       "      <th>date</th>\n",
       "      <th>stage</th>\n",
       "      <th>country</th>\n",
       "      <th>funds_raised_millions</th>\n",
       "    </tr>\n",
       "  </thead>\n",
       "  <tbody>\n",
       "    <tr>\n",
       "      <th>0</th>\n",
       "      <td>Atlassian</td>\n",
       "      <td>Sydney</td>\n",
       "      <td>Other</td>\n",
       "      <td>500.0</td>\n",
       "      <td>0.05</td>\n",
       "      <td>3/6/2023</td>\n",
       "      <td>Post-IPO</td>\n",
       "      <td>Australia</td>\n",
       "      <td>210.0</td>\n",
       "    </tr>\n",
       "    <tr>\n",
       "      <th>1</th>\n",
       "      <td>SiriusXM</td>\n",
       "      <td>New York City</td>\n",
       "      <td>Media</td>\n",
       "      <td>475.0</td>\n",
       "      <td>0.08</td>\n",
       "      <td>3/6/2023</td>\n",
       "      <td>Post-IPO</td>\n",
       "      <td>United States</td>\n",
       "      <td>525.0</td>\n",
       "    </tr>\n",
       "    <tr>\n",
       "      <th>2</th>\n",
       "      <td>Alerzo</td>\n",
       "      <td>Ibadan</td>\n",
       "      <td>Retail</td>\n",
       "      <td>400.0</td>\n",
       "      <td>NaN</td>\n",
       "      <td>3/6/2023</td>\n",
       "      <td>Series B</td>\n",
       "      <td>Nigeria</td>\n",
       "      <td>16.0</td>\n",
       "    </tr>\n",
       "    <tr>\n",
       "      <th>3</th>\n",
       "      <td>UpGrad</td>\n",
       "      <td>Mumbai</td>\n",
       "      <td>Education</td>\n",
       "      <td>120.0</td>\n",
       "      <td>NaN</td>\n",
       "      <td>3/6/2023</td>\n",
       "      <td>Unknown</td>\n",
       "      <td>India</td>\n",
       "      <td>631.0</td>\n",
       "    </tr>\n",
       "    <tr>\n",
       "      <th>4</th>\n",
       "      <td>Loft</td>\n",
       "      <td>Sao Paulo</td>\n",
       "      <td>Real Estate</td>\n",
       "      <td>340.0</td>\n",
       "      <td>0.15</td>\n",
       "      <td>3/3/2023</td>\n",
       "      <td>Unknown</td>\n",
       "      <td>Brazil</td>\n",
       "      <td>788.0</td>\n",
       "    </tr>\n",
       "  </tbody>\n",
       "</table>\n",
       "</div>"
      ],
      "text/plain": [
       "     company       location     industry  total_laid_off  percentage_laid_off  \\\n",
       "0  Atlassian         Sydney        Other           500.0                 0.05   \n",
       "1   SiriusXM  New York City        Media           475.0                 0.08   \n",
       "2     Alerzo         Ibadan       Retail           400.0                  NaN   \n",
       "3     UpGrad         Mumbai    Education           120.0                  NaN   \n",
       "4       Loft      Sao Paulo  Real Estate           340.0                 0.15   \n",
       "\n",
       "       date     stage        country  funds_raised_millions  \n",
       "0  3/6/2023  Post-IPO      Australia                  210.0  \n",
       "1  3/6/2023  Post-IPO  United States                  525.0  \n",
       "2  3/6/2023  Series B        Nigeria                   16.0  \n",
       "3  3/6/2023   Unknown          India                  631.0  \n",
       "4  3/3/2023   Unknown         Brazil                  788.0  "
      ]
     },
     "execution_count": 29,
     "metadata": {},
     "output_type": "execute_result"
    }
   ],
   "source": [
    "# valores unicos\n",
    "layoffs.head()"
   ]
  },
  {
   "cell_type": "code",
   "execution_count": null,
   "metadata": {},
   "outputs": [],
   "source": [
    "#hemos comprobado que la columna date está en tipo object, así que la pasaremos a su formato date\n",
    "\n",
    "layoffs['date'] = pd.to_datetime(layoffs['date'])"
   ]
  },
  {
   "cell_type": "code",
   "execution_count": null,
   "metadata": {},
   "outputs": [],
   "source": [
    "# para sustituir y estandarizar\n",
    "\n",
    "layoffs['industry'] = layoffs['industry'].replace({'.*Crypto.*' : 'Crypto'}, regex = True)"
   ]
  },
  {
   "cell_type": "code",
   "execution_count": null,
   "metadata": {},
   "outputs": [
    {
     "data": {
      "text/plain": [
       "0       Post-IPO\n",
       "1       Post-IPO\n",
       "2       Series B\n",
       "3        Unknown\n",
       "4        Unknown\n",
       "          ...   \n",
       "2352     Unknown\n",
       "2353        Seed\n",
       "2354    Series C\n",
       "2355    Series A\n",
       "2356    Post-IPO\n",
       "Name: stage, Length: 2356, dtype: object"
      ]
     },
     "execution_count": 16,
     "metadata": {},
     "output_type": "execute_result"
    }
   ],
   "source": [
    "layoffs['country'].str.strip()\n",
    "layoffs['company'].str.strip()\n",
    "layoffs['location'].str.strip()\n",
    "layoffs['industry'].str.strip()\n",
    "layoffs['stage'].str.strip()"
   ]
  },
  {
   "cell_type": "code",
   "execution_count": null,
   "metadata": {},
   "outputs": [
    {
     "data": {
      "text/plain": [
       "<bound method Series.unique of 486               E Inc.\n",
       "1218     Included Health\n",
       "235                #Paid\n",
       "677                &Open\n",
       "1283         100 Thieves\n",
       "              ...       \n",
       "1134              iRobot\n",
       "1763              kununu\n",
       "323                nCino\n",
       "1782               tZero\n",
       "2239               uShip\n",
       "Name: company, Length: 2356, dtype: object>"
      ]
     },
     "execution_count": 17,
     "metadata": {},
     "output_type": "execute_result"
    }
   ],
   "source": [
    "layoffs['company'].sort_values().unique"
   ]
  },
  {
   "cell_type": "markdown",
   "metadata": {},
   "source": [
    "## Null values"
   ]
  },
  {
   "cell_type": "code",
   "execution_count": null,
   "metadata": {},
   "outputs": [
    {
     "data": {
      "text/plain": [
       "company                  0.000000\n",
       "location                 0.000000\n",
       "industry                 0.001698\n",
       "total_laid_off           0.313667\n",
       "percentage_laid_off      0.332767\n",
       "date                     0.000424\n",
       "stage                    0.002547\n",
       "country                  0.000000\n",
       "funds_raised_millions    0.088710\n",
       "dtype: float64"
      ]
     },
     "execution_count": 19,
     "metadata": {},
     "output_type": "execute_result"
    }
   ],
   "source": [
    "#porcentaje de nulos\n",
    "\n",
    "layoffs.isnull().sum()/len(layoffs)"
   ]
  },
  {
   "cell_type": "code",
   "execution_count": null,
   "metadata": {},
   "outputs": [
    {
     "data": {
      "text/html": [
       "<div>\n",
       "<style scoped>\n",
       "    .dataframe tbody tr th:only-of-type {\n",
       "        vertical-align: middle;\n",
       "    }\n",
       "\n",
       "    .dataframe tbody tr th {\n",
       "        vertical-align: top;\n",
       "    }\n",
       "\n",
       "    .dataframe thead th {\n",
       "        text-align: right;\n",
       "    }\n",
       "</style>\n",
       "<table border=\"1\" class=\"dataframe\">\n",
       "  <thead>\n",
       "    <tr style=\"text-align: right;\">\n",
       "      <th></th>\n",
       "      <th>company</th>\n",
       "      <th>location</th>\n",
       "      <th>industry</th>\n",
       "      <th>total_laid_off</th>\n",
       "      <th>percentage_laid_off</th>\n",
       "      <th>date</th>\n",
       "      <th>stage</th>\n",
       "      <th>country</th>\n",
       "      <th>funds_raised_millions</th>\n",
       "    </tr>\n",
       "  </thead>\n",
       "  <tbody>\n",
       "    <tr>\n",
       "      <th>9</th>\n",
       "      <td>Accolade</td>\n",
       "      <td>Seattle</td>\n",
       "      <td>Healthcare</td>\n",
       "      <td>NaN</td>\n",
       "      <td>NaN</td>\n",
       "      <td>2023-03-03</td>\n",
       "      <td>Post-IPO</td>\n",
       "      <td>United States</td>\n",
       "      <td>458.0</td>\n",
       "    </tr>\n",
       "    <tr>\n",
       "      <th>10</th>\n",
       "      <td>Indigo</td>\n",
       "      <td>Boston</td>\n",
       "      <td>Other</td>\n",
       "      <td>NaN</td>\n",
       "      <td>NaN</td>\n",
       "      <td>2023-03-03</td>\n",
       "      <td>Series F</td>\n",
       "      <td>United States.</td>\n",
       "      <td>1200.0</td>\n",
       "    </tr>\n",
       "    <tr>\n",
       "      <th>16</th>\n",
       "      <td>Flipkart</td>\n",
       "      <td>Bengaluru</td>\n",
       "      <td>Retail</td>\n",
       "      <td>NaN</td>\n",
       "      <td>NaN</td>\n",
       "      <td>2023-03-02</td>\n",
       "      <td>Acquired</td>\n",
       "      <td>India</td>\n",
       "      <td>12900.0</td>\n",
       "    </tr>\n",
       "    <tr>\n",
       "      <th>17</th>\n",
       "      <td>Kandela</td>\n",
       "      <td>Los Angeles</td>\n",
       "      <td>Consumer</td>\n",
       "      <td>NaN</td>\n",
       "      <td>1.0</td>\n",
       "      <td>2023-03-02</td>\n",
       "      <td>Acquired</td>\n",
       "      <td>United States</td>\n",
       "      <td>NaN</td>\n",
       "    </tr>\n",
       "    <tr>\n",
       "      <th>18</th>\n",
       "      <td>Truckstop.com</td>\n",
       "      <td>Boise</td>\n",
       "      <td>Logistics</td>\n",
       "      <td>NaN</td>\n",
       "      <td>NaN</td>\n",
       "      <td>2023-03-02</td>\n",
       "      <td>Acquired</td>\n",
       "      <td>United States</td>\n",
       "      <td>NaN</td>\n",
       "    </tr>\n",
       "    <tr>\n",
       "      <th>...</th>\n",
       "      <td>...</td>\n",
       "      <td>...</td>\n",
       "      <td>...</td>\n",
       "      <td>...</td>\n",
       "      <td>...</td>\n",
       "      <td>...</td>\n",
       "      <td>...</td>\n",
       "      <td>...</td>\n",
       "      <td>...</td>\n",
       "    </tr>\n",
       "    <tr>\n",
       "      <th>2340</th>\n",
       "      <td>Vacasa</td>\n",
       "      <td>Portland</td>\n",
       "      <td>Travel</td>\n",
       "      <td>NaN</td>\n",
       "      <td>NaN</td>\n",
       "      <td>2020-03-20</td>\n",
       "      <td>Series C</td>\n",
       "      <td>United States</td>\n",
       "      <td>526.0</td>\n",
       "    </tr>\n",
       "    <tr>\n",
       "      <th>2345</th>\n",
       "      <td>Anyvision</td>\n",
       "      <td>Tel Aviv</td>\n",
       "      <td>Security</td>\n",
       "      <td>NaN</td>\n",
       "      <td>NaN</td>\n",
       "      <td>2020-03-19</td>\n",
       "      <td>Series A</td>\n",
       "      <td>Israel</td>\n",
       "      <td>74.0</td>\n",
       "    </tr>\n",
       "    <tr>\n",
       "      <th>2346</th>\n",
       "      <td>Popin</td>\n",
       "      <td>New York City</td>\n",
       "      <td>Fitness</td>\n",
       "      <td>NaN</td>\n",
       "      <td>1.0</td>\n",
       "      <td>2020-03-19</td>\n",
       "      <td>Unknown</td>\n",
       "      <td>United States</td>\n",
       "      <td>13.0</td>\n",
       "    </tr>\n",
       "    <tr>\n",
       "      <th>2347</th>\n",
       "      <td>Tuft &amp; Needle</td>\n",
       "      <td>Phoenix</td>\n",
       "      <td>Retail</td>\n",
       "      <td>NaN</td>\n",
       "      <td>NaN</td>\n",
       "      <td>2020-03-19</td>\n",
       "      <td>Acquired</td>\n",
       "      <td>United States</td>\n",
       "      <td>0.0</td>\n",
       "    </tr>\n",
       "    <tr>\n",
       "      <th>2351</th>\n",
       "      <td>Service</td>\n",
       "      <td>Los Angeles</td>\n",
       "      <td>Travel</td>\n",
       "      <td>NaN</td>\n",
       "      <td>1.0</td>\n",
       "      <td>2020-03-16</td>\n",
       "      <td>Seed</td>\n",
       "      <td>United States</td>\n",
       "      <td>5.1</td>\n",
       "    </tr>\n",
       "  </tbody>\n",
       "</table>\n",
       "<p>739 rows × 9 columns</p>\n",
       "</div>"
      ],
      "text/plain": [
       "            company       location    industry  total_laid_off  \\\n",
       "9          Accolade        Seattle  Healthcare             NaN   \n",
       "10           Indigo         Boston       Other             NaN   \n",
       "16         Flipkart      Bengaluru      Retail             NaN   \n",
       "17          Kandela    Los Angeles    Consumer             NaN   \n",
       "18    Truckstop.com          Boise   Logistics             NaN   \n",
       "...             ...            ...         ...             ...   \n",
       "2340         Vacasa       Portland      Travel             NaN   \n",
       "2345      Anyvision       Tel Aviv    Security             NaN   \n",
       "2346          Popin  New York City     Fitness             NaN   \n",
       "2347  Tuft & Needle        Phoenix      Retail             NaN   \n",
       "2351        Service    Los Angeles      Travel             NaN   \n",
       "\n",
       "      percentage_laid_off       date     stage         country  \\\n",
       "9                     NaN 2023-03-03  Post-IPO   United States   \n",
       "10                    NaN 2023-03-03  Series F  United States.   \n",
       "16                    NaN 2023-03-02  Acquired           India   \n",
       "17                    1.0 2023-03-02  Acquired   United States   \n",
       "18                    NaN 2023-03-02  Acquired   United States   \n",
       "...                   ...        ...       ...             ...   \n",
       "2340                  NaN 2020-03-20  Series C   United States   \n",
       "2345                  NaN 2020-03-19  Series A          Israel   \n",
       "2346                  1.0 2020-03-19   Unknown   United States   \n",
       "2347                  NaN 2020-03-19  Acquired   United States   \n",
       "2351                  1.0 2020-03-16      Seed   United States   \n",
       "\n",
       "      funds_raised_millions  \n",
       "9                     458.0  \n",
       "10                   1200.0  \n",
       "16                  12900.0  \n",
       "17                      NaN  \n",
       "18                      NaN  \n",
       "...                     ...  \n",
       "2340                  526.0  \n",
       "2345                   74.0  \n",
       "2346                   13.0  \n",
       "2347                    0.0  \n",
       "2351                    5.1  \n",
       "\n",
       "[739 rows x 9 columns]"
      ]
     },
     "execution_count": 20,
     "metadata": {},
     "output_type": "execute_result"
    }
   ],
   "source": [
    "layoffs.loc[layoffs.total_laid_off.isnull()]"
   ]
  },
  {
   "cell_type": "code",
   "execution_count": null,
   "metadata": {},
   "outputs": [],
   "source": [
    "#comprobamos donde está el nulo y qué influencia puede tener\n",
    "layoffs.date.isnull().sum()\n",
    "layoffs.loc[layoffs.date.isnull()]\n",
    "\n",
    "#lo borramos\n",
    "layoffs.drop(index = 2356, inplace=True)"
   ]
  },
  {
   "cell_type": "code",
   "execution_count": null,
   "metadata": {},
   "outputs": [],
   "source": [
    "layoffs.dropna(subset=['stage'], inplace=True)\n",
    "layoffs.dropna(subset=['industry'], inplace=True)\n",
    "layoffs.dropna(subset=['funds_raised_millions'], inplace=True)"
   ]
  },
  {
   "cell_type": "markdown",
   "metadata": {},
   "source": [
    "## Handling missing values"
   ]
  },
  {
   "cell_type": "code",
   "execution_count": null,
   "metadata": {},
   "outputs": [],
   "source": [
    "layoffs['total_laid_off'].fillna(layoffs['total_laid_off'].mode()[0], inplace=True)\n",
    "layoffs['percentage_laid_off'].fillna(layoffs['percentage_laid_off'].mode()[0], inplace=True)\n"
   ]
  },
  {
   "cell_type": "code",
   "execution_count": null,
   "metadata": {},
   "outputs": [
    {
     "data": {
      "text/html": [
       "<div>\n",
       "<style scoped>\n",
       "    .dataframe tbody tr th:only-of-type {\n",
       "        vertical-align: middle;\n",
       "    }\n",
       "\n",
       "    .dataframe tbody tr th {\n",
       "        vertical-align: top;\n",
       "    }\n",
       "\n",
       "    .dataframe thead th {\n",
       "        text-align: right;\n",
       "    }\n",
       "</style>\n",
       "<table border=\"1\" class=\"dataframe\">\n",
       "  <thead>\n",
       "    <tr style=\"text-align: right;\">\n",
       "      <th></th>\n",
       "      <th>company</th>\n",
       "      <th>location</th>\n",
       "      <th>industry</th>\n",
       "      <th>total_laid_off</th>\n",
       "      <th>percentage_laid_off</th>\n",
       "      <th>date</th>\n",
       "      <th>stage</th>\n",
       "      <th>country</th>\n",
       "      <th>funds_raised_millions</th>\n",
       "    </tr>\n",
       "  </thead>\n",
       "  <tbody>\n",
       "    <tr>\n",
       "      <th>3</th>\n",
       "      <td>UpGrad</td>\n",
       "      <td>Mumbai</td>\n",
       "      <td>Education</td>\n",
       "      <td>120.0</td>\n",
       "      <td>0.10</td>\n",
       "      <td>2023-03-06</td>\n",
       "      <td>Unknown</td>\n",
       "      <td>India</td>\n",
       "      <td>631.0</td>\n",
       "    </tr>\n",
       "    <tr>\n",
       "      <th>4</th>\n",
       "      <td>Loft</td>\n",
       "      <td>Sao Paulo</td>\n",
       "      <td>Real Estate</td>\n",
       "      <td>340.0</td>\n",
       "      <td>0.15</td>\n",
       "      <td>2023-03-03</td>\n",
       "      <td>Unknown</td>\n",
       "      <td>Brazil</td>\n",
       "      <td>788.0</td>\n",
       "    </tr>\n",
       "    <tr>\n",
       "      <th>6</th>\n",
       "      <td>Lendi</td>\n",
       "      <td>Sydney</td>\n",
       "      <td>Real Estate</td>\n",
       "      <td>100.0</td>\n",
       "      <td>0.10</td>\n",
       "      <td>2023-03-03</td>\n",
       "      <td>Unknown</td>\n",
       "      <td>Australia</td>\n",
       "      <td>59.0</td>\n",
       "    </tr>\n",
       "    <tr>\n",
       "      <th>33</th>\n",
       "      <td>Amount</td>\n",
       "      <td>Chicago</td>\n",
       "      <td>Finance</td>\n",
       "      <td>130.0</td>\n",
       "      <td>0.25</td>\n",
       "      <td>2023-02-27</td>\n",
       "      <td>Unknown</td>\n",
       "      <td>United States</td>\n",
       "      <td>283.0</td>\n",
       "    </tr>\n",
       "    <tr>\n",
       "      <th>37</th>\n",
       "      <td>BitSight</td>\n",
       "      <td>Tel Aviv</td>\n",
       "      <td>Security</td>\n",
       "      <td>40.0</td>\n",
       "      <td>0.10</td>\n",
       "      <td>2023-02-26</td>\n",
       "      <td>Unknown</td>\n",
       "      <td>Israel</td>\n",
       "      <td>401.0</td>\n",
       "    </tr>\n",
       "    <tr>\n",
       "      <th>...</th>\n",
       "      <td>...</td>\n",
       "      <td>...</td>\n",
       "      <td>...</td>\n",
       "      <td>...</td>\n",
       "      <td>...</td>\n",
       "      <td>...</td>\n",
       "      <td>...</td>\n",
       "      <td>...</td>\n",
       "      <td>...</td>\n",
       "    </tr>\n",
       "    <tr>\n",
       "      <th>2310</th>\n",
       "      <td>Jama</td>\n",
       "      <td>Portland</td>\n",
       "      <td>Product</td>\n",
       "      <td>12.0</td>\n",
       "      <td>0.05</td>\n",
       "      <td>2020-03-25</td>\n",
       "      <td>Unknown</td>\n",
       "      <td>United States</td>\n",
       "      <td>233.0</td>\n",
       "    </tr>\n",
       "    <tr>\n",
       "      <th>2322</th>\n",
       "      <td>Peerfit</td>\n",
       "      <td>Tampa Bay</td>\n",
       "      <td>HR</td>\n",
       "      <td>100.0</td>\n",
       "      <td>0.40</td>\n",
       "      <td>2020-03-24</td>\n",
       "      <td>Unknown</td>\n",
       "      <td>United States</td>\n",
       "      <td>47.0</td>\n",
       "    </tr>\n",
       "    <tr>\n",
       "      <th>2329</th>\n",
       "      <td>GrayMeta</td>\n",
       "      <td>Los Angeles</td>\n",
       "      <td>Data</td>\n",
       "      <td>20.0</td>\n",
       "      <td>0.40</td>\n",
       "      <td>2020-03-23</td>\n",
       "      <td>Unknown</td>\n",
       "      <td>United States</td>\n",
       "      <td>7.0</td>\n",
       "    </tr>\n",
       "    <tr>\n",
       "      <th>2346</th>\n",
       "      <td>Popin</td>\n",
       "      <td>New York City</td>\n",
       "      <td>Fitness</td>\n",
       "      <td>100.0</td>\n",
       "      <td>1.00</td>\n",
       "      <td>2020-03-19</td>\n",
       "      <td>Unknown</td>\n",
       "      <td>United States</td>\n",
       "      <td>13.0</td>\n",
       "    </tr>\n",
       "    <tr>\n",
       "      <th>2352</th>\n",
       "      <td>HopSkipDrive</td>\n",
       "      <td>Los Angeles</td>\n",
       "      <td>Transportation</td>\n",
       "      <td>8.0</td>\n",
       "      <td>0.10</td>\n",
       "      <td>2020-03-13</td>\n",
       "      <td>Unknown</td>\n",
       "      <td>United States</td>\n",
       "      <td>45.0</td>\n",
       "    </tr>\n",
       "  </tbody>\n",
       "</table>\n",
       "<p>289 rows × 9 columns</p>\n",
       "</div>"
      ],
      "text/plain": [
       "           company       location        industry  total_laid_off  \\\n",
       "3           UpGrad         Mumbai       Education           120.0   \n",
       "4             Loft      Sao Paulo     Real Estate           340.0   \n",
       "6            Lendi         Sydney     Real Estate           100.0   \n",
       "33          Amount        Chicago         Finance           130.0   \n",
       "37        BitSight       Tel Aviv        Security            40.0   \n",
       "...            ...            ...             ...             ...   \n",
       "2310          Jama       Portland         Product            12.0   \n",
       "2322       Peerfit      Tampa Bay              HR           100.0   \n",
       "2329      GrayMeta    Los Angeles            Data            20.0   \n",
       "2346         Popin  New York City         Fitness           100.0   \n",
       "2352  HopSkipDrive    Los Angeles  Transportation             8.0   \n",
       "\n",
       "      percentage_laid_off       date    stage        country  \\\n",
       "3                    0.10 2023-03-06  Unknown          India   \n",
       "4                    0.15 2023-03-03  Unknown         Brazil   \n",
       "6                    0.10 2023-03-03  Unknown      Australia   \n",
       "33                   0.25 2023-02-27  Unknown  United States   \n",
       "37                   0.10 2023-02-26  Unknown         Israel   \n",
       "...                   ...        ...      ...            ...   \n",
       "2310                 0.05 2020-03-25  Unknown  United States   \n",
       "2322                 0.40 2020-03-24  Unknown  United States   \n",
       "2329                 0.40 2020-03-23  Unknown  United States   \n",
       "2346                 1.00 2020-03-19  Unknown  United States   \n",
       "2352                 0.10 2020-03-13  Unknown  United States   \n",
       "\n",
       "      funds_raised_millions  \n",
       "3                     631.0  \n",
       "4                     788.0  \n",
       "6                      59.0  \n",
       "33                    283.0  \n",
       "37                    401.0  \n",
       "...                     ...  \n",
       "2310                  233.0  \n",
       "2322                   47.0  \n",
       "2329                    7.0  \n",
       "2346                   13.0  \n",
       "2352                   45.0  \n",
       "\n",
       "[289 rows x 9 columns]"
      ]
     },
     "execution_count": 24,
     "metadata": {},
     "output_type": "execute_result"
    }
   ],
   "source": [
    "layoffs.loc[(layoffs.stage == 'Unknown')]"
   ]
  },
  {
   "cell_type": "code",
   "execution_count": null,
   "metadata": {},
   "outputs": [
    {
     "data": {
      "text/html": [
       "<div>\n",
       "<style scoped>\n",
       "    .dataframe tbody tr th:only-of-type {\n",
       "        vertical-align: middle;\n",
       "    }\n",
       "\n",
       "    .dataframe tbody tr th {\n",
       "        vertical-align: top;\n",
       "    }\n",
       "\n",
       "    .dataframe thead th {\n",
       "        text-align: right;\n",
       "    }\n",
       "</style>\n",
       "<table border=\"1\" class=\"dataframe\">\n",
       "  <thead>\n",
       "    <tr style=\"text-align: right;\">\n",
       "      <th></th>\n",
       "      <th>count</th>\n",
       "      <th>mean</th>\n",
       "      <th>std</th>\n",
       "      <th>min</th>\n",
       "      <th>25%</th>\n",
       "      <th>50%</th>\n",
       "      <th>75%</th>\n",
       "      <th>max</th>\n",
       "    </tr>\n",
       "  </thead>\n",
       "  <tbody>\n",
       "    <tr>\n",
       "      <th>total_laid_off</th>\n",
       "      <td>2141.0</td>\n",
       "      <td>185.884633</td>\n",
       "      <td>622.517733</td>\n",
       "      <td>3.0</td>\n",
       "      <td>50.0</td>\n",
       "      <td>100.0</td>\n",
       "      <td>110.0</td>\n",
       "      <td>12000.0</td>\n",
       "    </tr>\n",
       "    <tr>\n",
       "      <th>percentage_laid_off</th>\n",
       "      <td>2141.0</td>\n",
       "      <td>0.201456</td>\n",
       "      <td>0.215037</td>\n",
       "      <td>0.0</td>\n",
       "      <td>0.1</td>\n",
       "      <td>0.1</td>\n",
       "      <td>0.2</td>\n",
       "      <td>1.0</td>\n",
       "    </tr>\n",
       "    <tr>\n",
       "      <th>funds_raised_millions</th>\n",
       "      <td>2141.0</td>\n",
       "      <td>818.788088</td>\n",
       "      <td>5606.534076</td>\n",
       "      <td>0.0</td>\n",
       "      <td>50.0</td>\n",
       "      <td>156.0</td>\n",
       "      <td>441.0</td>\n",
       "      <td>121900.0</td>\n",
       "    </tr>\n",
       "  </tbody>\n",
       "</table>\n",
       "</div>"
      ],
      "text/plain": [
       "                        count        mean          std  min   25%    50%  \\\n",
       "total_laid_off         2141.0  185.884633   622.517733  3.0  50.0  100.0   \n",
       "percentage_laid_off    2141.0    0.201456     0.215037  0.0   0.1    0.1   \n",
       "funds_raised_millions  2141.0  818.788088  5606.534076  0.0  50.0  156.0   \n",
       "\n",
       "                         75%       max  \n",
       "total_laid_off         110.0   12000.0  \n",
       "percentage_laid_off      0.2       1.0  \n",
       "funds_raised_millions  441.0  121900.0  "
      ]
     },
     "execution_count": 25,
     "metadata": {},
     "output_type": "execute_result"
    }
   ],
   "source": [
    "layoffs.describe().T"
   ]
  },
  {
   "cell_type": "markdown",
   "metadata": {},
   "source": [
    "## Remove Innecesary Columns"
   ]
  },
  {
   "cell_type": "code",
   "execution_count": null,
   "metadata": {},
   "outputs": [
    {
     "data": {
      "text/plain": [
       "(2141, 9)"
      ]
     },
     "execution_count": 27,
     "metadata": {},
     "output_type": "execute_result"
    }
   ],
   "source": [
    "layoffs.shape"
   ]
  },
  {
   "cell_type": "code",
   "execution_count": null,
   "metadata": {},
   "outputs": [
    {
     "name": "stdout",
     "output_type": "stream",
     "text": [
      "<class 'pandas.core.frame.DataFrame'>\n",
      "Int64Index: 2141 entries, 0 to 2355\n",
      "Data columns (total 9 columns):\n",
      " #   Column                 Non-Null Count  Dtype         \n",
      "---  ------                 --------------  -----         \n",
      " 0   company                2141 non-null   object        \n",
      " 1   location               2141 non-null   object        \n",
      " 2   industry               2141 non-null   object        \n",
      " 3   total_laid_off         2141 non-null   float64       \n",
      " 4   percentage_laid_off    2141 non-null   float64       \n",
      " 5   date                   2141 non-null   datetime64[ns]\n",
      " 6   stage                  2141 non-null   object        \n",
      " 7   country                2141 non-null   object        \n",
      " 8   funds_raised_millions  2141 non-null   float64       \n",
      "dtypes: datetime64[ns](1), float64(3), object(5)\n",
      "memory usage: 167.3+ KB\n"
     ]
    }
   ],
   "source": [
    "layoffs.info()"
   ]
  },
  {
   "cell_type": "code",
   "execution_count": null,
   "metadata": {},
   "outputs": [],
   "source": [
    "layoffs.to_csv('../Data/layoffs_clean.csv', index=False)"
   ]
  }
 ],
 "metadata": {
  "kernelspec": {
   "display_name": "base",
   "language": "python",
   "name": "python3"
  },
  "language_info": {
   "codemirror_mode": {
    "name": "ipython",
    "version": 3
   },
   "file_extension": ".py",
   "mimetype": "text/x-python",
   "name": "python",
   "nbconvert_exporter": "python",
   "pygments_lexer": "ipython3",
   "version": "3.9.13"
  }
 },
 "nbformat": 4,
 "nbformat_minor": 2
}
